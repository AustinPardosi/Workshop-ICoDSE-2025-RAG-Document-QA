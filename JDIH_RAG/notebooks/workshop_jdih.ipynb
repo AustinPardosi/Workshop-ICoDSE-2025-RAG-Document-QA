{
 "cells": [
  {
   "cell_type": "markdown",
   "id": "afadfb2a",
   "metadata": {},
   "source": []
  },
  {
   "cell_type": "markdown",
   "id": "03e731bf",
   "metadata": {},
   "source": [
    "## <span style=\"color:#ff8000\">About this notebook</span>"
   ]
  },
  {
   "cell_type": "markdown",
   "id": "1a77080f",
   "metadata": {},
   "source": [
    "This is a supplementary notebook for the session AG __Studi Kasus: Document Q&A__  of the __ICoDSE 2025__."
   ]
  },
  {
   "cell_type": "markdown",
   "id": "43120e0f",
   "metadata": {},
   "source": [
    "### <span style=\"color:#47c7fc\">Contents</span>\n",
    "\n",
    "This notebook contains code in python and leverages the LangChain framework to build and evaluate the different components of a RAG pipeline. \n",
    "\n",
    "- Indexing Pipeline\n",
    "    -  Data Loading\n",
    "    - Chunking (or Data Splitting)\n",
    "    - Embeddings (or Data Transformation)\n",
    "    - Storage (Vector Databases)\n",
    "\n",
    "- Generation Pipeline\n",
    "    - Search & Retrieval\n",
    "    - Prompt Augmentation\n",
    "    - LLM Generation"
   ]
  },
  {
   "cell_type": "markdown",
   "id": "5c6eaaf1",
   "metadata": {},
   "source": [
    "## <span style=\"color:#ff8000\">Installing Dependencies</span>"
   ]
  },
  {
   "cell_type": "markdown",
   "id": "36a40a31",
   "metadata": {},
   "source": [
    "All the necessary libraries for running this notebook along with their versions can be found in __requirements.txt__ file in the root directory of this repository\n",
    "\n",
    "You should go to the root directory and run the following command to install the libraries\n",
    "\n",
    "```\n",
    "pip install -r requirements.txt\n",
    "```\n",
    "\n",
    "This is the recommended method of installing the dependencies\n",
    "\n",
    "\n",
    "_Alternatively, you can run the command from this notebook too. The relative path may vary so ensure that you are in the root directory of this repository_"
   ]
  },
  {
   "cell_type": "code",
   "execution_count": 10,
   "id": "7c024484",
   "metadata": {},
   "outputs": [
    {
     "name": "stdout",
     "output_type": "stream",
     "text": [
      "Note: you may need to restart the kernel to use updated packages.\n"
     ]
    },
    {
     "name": "stderr",
     "output_type": "stream",
     "text": [
      "\n",
      "[notice] A new release of pip is available: 25.1.1 -> 25.2\n",
      "[notice] To update, run: python.exe -m pip install --upgrade pip\n",
      "ERROR: Could not open requirements file: [Errno 2] No such file or directory: './requirements.txt'\n"
     ]
    }
   ],
   "source": [
    "%pip install -r ./requirements.txt --quiet"
   ]
  },
  {
   "cell_type": "markdown",
   "id": "65c3e0a1",
   "metadata": {},
   "source": [
    "---"
   ]
  },
  {
   "cell_type": "markdown",
   "id": "89d02eb4",
   "metadata": {},
   "source": [
    "## <span style=\"color:#ff8000\">Indexing Pipeline</span>\n"
   ]
  },
  {
   "cell_type": "markdown",
   "id": "b9041f80",
   "metadata": {},
   "source": [
    "### <span style=\"color:#47c7fc\">Data Loading</span>"
   ]
  },
  {
   "cell_type": "code",
   "execution_count": 11,
   "id": "95c5a2b5",
   "metadata": {},
   "outputs": [],
   "source": [
    "import textwrap\n",
    "import matplotlib.pyplot as plt\n",
    "import numpy as np\n",
    "import openai\n",
    "import os\n",
    "from glob import glob\n",
    "\n",
    "filepath='../data'"
   ]
  },
  {
   "cell_type": "code",
   "execution_count": 12,
   "id": "c3c51c29",
   "metadata": {},
   "outputs": [
    {
     "name": "stdout",
     "output_type": "stream",
     "text": [
      "Loaded 30 pages from PDF files in ../data\n",
      "First page preview:\n",
      "INSTITUT TEKNOLOGI BANDUNG   UPT KEAMANAN, KESEHATAN, KESELAMATAN KERJA     DAN LINGKUNGAN   Jalan Ganesa No. 10, Gedung CC Timur lantai 2, Bandung\n",
      "Kode Pos 40132 ,   Telp: +6222 2500204, e-mail: sekre.k3l@itb.ac.id       Catatan :    1.  UU ITE No. 11 Tahun 2008 Pasal 5 ayat 1 \"Informasi\n",
      "Elektronik dan/atau Dokumen Elektronik dan/atau hasil        cetakannya  merupakan alat bukti yang sah.”  2.  Dokumen ini telah ditandatangani secara\n",
      "elektronik menggunakan sertifikat elektronik yang diterbitkan oleh BSrE.    SURAT EDARAN  Nomor : 646/IT1.B05.8/TU.04/2025    Tentang  Ketentuan\n",
      "Standar Stand Tenan Makanan dan Minuman  Dalam Keikutsertaan Kegiatan/Event di Lingkungan Kampus ITB  (Presfektif dari Aspek K3L)    Dalam rangka\n",
      "mendukung kelancaran pelaksanaan kegiatan serta menjamin aspek kesehatan,  keselamatan kerja dan lingkungan di kampus Institut Teknologi Bandung, maka\n",
      "setiap tenan yang  akan berpartisipasi dalam kegiatan/event di kampus wajib mematuhi ketentuan standar  sebagaimana te\n"
     ]
    }
   ],
   "source": [
    "from langchain_community.document_loaders import PyPDFLoader, DirectoryLoader\n",
    "\n",
    "#START YOUR CODE HERE\n",
    "# Load all PDF files from the Assets/Data directory\n",
    "pdf_loader = DirectoryLoader(\n",
    "    filepath, \n",
    "    glob=\"*.pdf\",\n",
    "    loader_cls=PyPDFLoader,\n",
    "    use_multithreading=True\n",
    ")\n",
    "\n",
    "pdf_data = pdf_loader.load()  # Load all PDF files\n",
    "\n",
    "print(f\"Loaded {len(pdf_data)} pages from PDF files in {filepath}\")\n",
    "print(f\"First page preview:\")\n",
    "print(textwrap.fill(f\"{pdf_data[0].page_content[:1000]}\", width=150)) #print the first 1000 characters\n",
    "\n",
    "#END YOUR CODE HERE"
   ]
  },
  {
   "cell_type": "markdown",
   "id": "c543d276",
   "metadata": {},
   "source": [
    "### <span style=\"color:#47c7fc\">Data Splitting or Chunking</span>\n",
    "\n",
    "> Breaking down long pieces of text into manageable sizes is called Chunking"
   ]
  },
  {
   "cell_type": "markdown",
   "id": "82ab67df",
   "metadata": {},
   "source": [
    "### <span style=\"color:#47c7fc\">Fixed Size Chunking</span>\n",
    "\n",
    "A very common approach is to pre-determine the size of the chunk and the amount of overlap between the chunks. There are several chunking methods that follow a fixed size chunking approach.\n",
    "\n",
    "- Character-Based Chunking: Chunks are created based on a fixed number of characters\n",
    "\n",
    "- Token-Based Chunking: Chunks are created based on a fixed number of tokens.\n",
    "\n",
    "- Sentence-Based Chunking: Chunks are defined by a fixed number of sentences\n",
    "\n",
    "- Paragraph-Based Chunking: Chunks are created by dividing the text into a fixed number of paragraphs."
   ]
  },
  {
   "cell_type": "markdown",
   "id": "827dd29f",
   "metadata": {},
   "source": [
    "Let's try Character-Based Chunking. "
   ]
  },
  {
   "cell_type": "code",
   "execution_count": 13,
   "id": "3561ff2d",
   "metadata": {},
   "outputs": [
    {
     "name": "stdout",
     "output_type": "stream",
     "text": [
      "Total content length from all PDFs: 66789 characters\n",
      "Number of pages loaded: 30\n"
     ]
    }
   ],
   "source": [
    "# Load all PDF files from the directory\n",
    "pdf_loader = DirectoryLoader(\n",
    "    filepath, \n",
    "    glob=\"*.pdf\",\n",
    "    loader_cls=PyPDFLoader,\n",
    "    use_multithreading=True\n",
    ")\n",
    "\n",
    "pdf_data = pdf_loader.load()  # Load all PDF files\n",
    "\n",
    "total_content_length = sum(len(doc.page_content) for doc in pdf_data)\n",
    "print(f\"Total content length from all PDFs: {total_content_length} characters\")\n",
    "print(f\"Number of pages loaded: {len(pdf_data)}\")"
   ]
  },
  {
   "cell_type": "code",
   "execution_count": 14,
   "id": "7e5e0d64",
   "metadata": {},
   "outputs": [],
   "source": [
    "from langchain.text_splitter import RecursiveCharacterTextSplitter\n",
    "\n",
    "text_splitter = RecursiveCharacterTextSplitter(\n",
    "    separators=[\"\\n\\n\",\"\\n\",\".\"], #The character that should be used to split. More than one can be given to try recursively.\n",
    "    chunk_size=1000, #Number of characters in each chunk \n",
    "    chunk_overlap=100, #Number of overlapping characters between chunks\n",
    ")\n",
    "\n",
    "pdf_doc_chunks = text_splitter.split_documents(pdf_data)"
   ]
  },
  {
   "cell_type": "markdown",
   "id": "f76fb9e7",
   "metadata": {},
   "source": [
    "Let's check out the distribution of chunk sizes.\n",
    "\n",
    "Run the cell below.\n",
    "\n",
    "Remember the document object should be called ```pdf_doc_chunks```\n"
   ]
  },
  {
   "cell_type": "code",
   "execution_count": 15,
   "id": "c36390a8",
   "metadata": {},
   "outputs": [
    {
     "data": {
      "image/png": "[encoded data removed]",
      "text/plain": [
       "<Figure size 640x480 with 1 Axes>"
      ]
     },
     "metadata": {},
     "output_type": "display_data"
    },
    {
     "name": "stdout",
     "output_type": "stream",
     "text": [
      "The median chunk lenght is : 949.0\n",
      "The average chunk lenght is : 815.32\n",
      "The minimum chunk lenght is : 144\n",
      "The max chunk lenght is : 998\n",
      "The 75th percentile chunk length is : 973.0\n",
      "The 25th percentile chunk length is : 666.0\n"
     ]
    }
   ],
   "source": [
    "data = [len(doc.page_content) for doc in pdf_doc_chunks]\n",
    "\n",
    "plt.boxplot(data)  \n",
    "plt.title('Box Plot of chunk lengths')  # Title \n",
    "plt.xlabel('Chunk Lengths')  # Label for x-axis\n",
    "plt.ylabel('Values')  # Label for y-axis\n",
    "\n",
    "plt.show()\n",
    "\n",
    "print(f\"The median chunk lenght is : {round(np.median(data),2)}\")\n",
    "print(f\"The average chunk lenght is : {round(np.mean(data),2)}\")\n",
    "print(f\"The minimum chunk lenght is : {round(np.min(data),2)}\")\n",
    "print(f\"The max chunk lenght is : {round(np.max(data),2)}\")\n",
    "print(f\"The 75th percentile chunk length is : {round(np.percentile(data, 75),2)}\")\n",
    "print(f\"The 25th percentile chunk length is : {round(np.percentile(data, 25),2)}\")"
   ]
  },
  {
   "cell_type": "markdown",
   "id": "3ae1cb02",
   "metadata": {},
   "source": [
    "### <span style=\"color:#47c7fc\">Data Transformation or Embeddings</span>"
   ]
  },
  {
   "cell_type": "markdown",
   "id": "2c736c58",
   "metadata": {},
   "source": [
    "#### __OpenAI Embeddings__\n",
    "\n",
    "OpenAI, the company behind ChatGPT and GPT series of Large Language Models also provide three Embeddings Models. \n",
    "\n",
    "1.\ttext-embedding-ada-002 was released in December 2022. It has a dimension of 1536 meaning that it converts text into a vector of 1536 dimensions.\n",
    "2.\ttext-embedding-3-small is the latest small embedding model of 1536 dimensions released in January 2024. The flexibility it provides over ada-002 model is that users can adjust the size of the dimensions according to their needs.\n",
    "3.\ttext-embedding-3-large is a large embedding model of 3072 dimensions released together with the text-embedding-3-small model. It is the best performing model released by OpenAI yet.\n",
    "\n",
    "\n",
    "OpenAI models are proprietary and can be accessed using the OpenAI API and are priced based on the number of input tokens for which embeddings are desired. \n"
   ]
  },
  {
   "cell_type": "markdown",
   "id": "d4d6a735",
   "metadata": {},
   "source": [
    "Note: You will need an __OpenAI API Key__ which can be obtained from [OpenAI](https://platform.openai.com/api-keys)"
   ]
  },
  {
   "cell_type": "markdown",
   "id": "8fab2968",
   "metadata": {},
   "source": [
    "To initialize the __OpenAI client__, we need to pass the api key. There are many ways of doing it. \n",
    "\n",
    "__[Option 1] Creating a .env file for storing the API key and using it # Recommended__\n",
    "\n",
    "Install the __dotenv__ library\n",
    "\n",
    "_The dotenv library is a popular tool used in various programming languages, including Python and Node.js, to manage environment variables in development and deployment environments. It allows developers to load environment variables from a .env file into their application's environment._\n",
    "\n",
    "- Create a file named .env in the root directory of their project.\n",
    "- Inside the .env file, then define environment variables in the format VARIABLE_NAME=value. \n",
    "\n",
    "e.g.\n",
    "\n",
    "OPENAI_API_KEY=YOUR API KEY"
   ]
  },
  {
   "cell_type": "code",
   "execution_count": 16,
   "id": "5febefc8",
   "metadata": {},
   "outputs": [
    {
     "name": "stdout",
     "output_type": "stream",
     "text": [
      "Success: .env file found with some environment variables\n"
     ]
    }
   ],
   "source": [
    "from dotenv import load_dotenv\n",
    "import os\n",
    "\n",
    "if load_dotenv():\n",
    "    print(\"Success: .env file found with some environment variables\")\n",
    "else:\n",
    "    print(\"Caution: No environment variables found. Please create .env file in the root directory or add environment variables in the .env file\")"
   ]
  },
  {
   "cell_type": "markdown",
   "id": "deee68d6",
   "metadata": {},
   "source": [
    "We can also test if the key is valid or not"
   ]
  },
  {
   "cell_type": "code",
   "execution_count": 17,
   "id": "4947120d",
   "metadata": {},
   "outputs": [
    {
     "name": "stdout",
     "output_type": "stream",
     "text": [
      "OPENAI_API_KEY is set and is valid\n"
     ]
    }
   ],
   "source": [
    "api_key=os.environ[\"OPENAI_API_KEY\"]\n",
    "\n",
    "from openai import OpenAI\n",
    "\n",
    "client = OpenAI()\n",
    "\n",
    "\n",
    "if api_key:\n",
    "    try:\n",
    "        client.models.list()\n",
    "        print(\"OPENAI_API_KEY is set and is valid\")\n",
    "    except openai.APIError as e:\n",
    "        print(f\"OpenAI API returned an API Error: {e}\")\n",
    "        pass\n",
    "    except openai.APIConnectionError as e:\n",
    "        print(f\"Failed to connect to OpenAI API: {e}\")\n",
    "        pass\n",
    "    except openai.RateLimitError as e:\n",
    "        print(f\"OpenAI API request exceeded rate limit: {e}\")\n",
    "        pass\n",
    "\n",
    "else:\n",
    "    print(\"Please set you OpenAI API key as an environment variable OPENAI_API_KEY\")\n",
    "\n"
   ]
  },
  {
   "cell_type": "markdown",
   "id": "3e9f0119",
   "metadata": {},
   "source": [
    "Now we will use the __OpenAIEmbeddings__ library from langchain "
   ]
  },
  {
   "cell_type": "code",
   "execution_count": 18,
   "id": "f34cbb54",
   "metadata": {},
   "outputs": [
    {
     "name": "stdout",
     "output_type": "stream",
     "text": [
      "Generated embeddings for 87 chunks\n",
      "Each embedding has 1536 dimensions\n"
     ]
    }
   ],
   "source": [
    "# Import OpenAIEmbeddings from the library\n",
    "from langchain_openai import OpenAIEmbeddings\n",
    "\n",
    "os.environ[\"TOKENIZERS_PARALLELISM\"]=\"false\"\n",
    "\n",
    "# Initialize embeddings with consistent variable name\n",
    "embeddings = OpenAIEmbeddings(model=\"text-embedding-3-small\")\n",
    "\n",
    "# Generate embeddings for all document chunks\n",
    "pdf_doc_embeddings = embeddings.embed_documents([chunk.page_content for chunk in pdf_doc_chunks])\n",
    "\n",
    "print(f\"Generated embeddings for {len(pdf_doc_chunks)} chunks\")\n",
    "print(f\"Each embedding has {len(pdf_doc_embeddings[0])} dimensions\")"
   ]
  },
  {
   "cell_type": "code",
   "execution_count": 19,
   "id": "ebeabad7",
   "metadata": {},
   "outputs": [
    {
     "name": "stdout",
     "output_type": "stream",
     "text": [
      "The lenght of the embeddings vector is 1536\n",
      "The embeddings object is an array of 87 X 1536\n"
     ]
    }
   ],
   "source": [
    "print(f\"The lenght of the embeddings vector is {len(pdf_doc_embeddings[0])}\")\n",
    "print(f\"The embeddings object is an array of {len(pdf_doc_embeddings)} X {len(pdf_doc_embeddings[0])}\")"
   ]
  },
  {
   "cell_type": "markdown",
   "id": "e88d842f",
   "metadata": {},
   "source": [
    "### <span style=\"color:#47c7fc\">Vector Storage</span>"
   ]
  },
  {
   "cell_type": "code",
   "execution_count": 20,
   "id": "56e01887",
   "metadata": {},
   "outputs": [
    {
     "data": {
      "text/plain": [
       "['1f1d43d5-8ea5-40e7-90b9-2784a1d9bda5',\n",
       " 'eea9b92a-17f0-4061-92d6-f0e689b9399b',\n",
       " '9fe69828-3c6e-4a91-87d7-a45f3089986b',\n",
       " 'bad092b7-63e0-4671-8b18-91fb0b5165c3',\n",
       " 'b8645635-3df9-4d5a-94b1-e1ae1c27fcc0',\n",
       " '2faf84dd-7b72-419d-b3cf-ed6021a9de19',\n",
       " '4e01fa1c-1afa-4475-a728-8d8ce8fabc99',\n",
       " '0725998f-f4cb-4629-b256-6a4178c33ab7',\n",
       " '3dab430b-9652-443c-ab08-585fcb04b9da',\n",
       " 'd1be2f7b-c499-4a4c-8e57-17d6a4d7228f',\n",
       " '4c07d1be-43cf-4938-8507-7a69b0944679',\n",
       " '88a2a3af-2bf6-46d8-a9c8-f6cd17272b37',\n",
       " '88437895-1ceb-48a6-b5d5-057a5c4ce71d',\n",
       " '68b08364-8efd-4a55-b8d5-b581c87525fb',\n",
       " 'd661c924-47a2-4d80-88fe-25e945dd6e7d',\n",
       " 'b5c6bdf5-c23d-4d07-8099-ee83a482e1f2',\n",
       " '1db9bd5a-ff08-4397-b319-5560e0406e8b',\n",
       " '98ace978-d1b2-41f9-93af-785c2cf92bb9',\n",
       " 'fe1887e9-ae24-4a03-82c7-893acbe26376',\n",
       " '7fb0d836-4b2b-4acb-8000-d44b8fdf85ac',\n",
       " 'cd4dff1d-0c93-40c5-ab3d-ef789f2f71f4',\n",
       " '45d5db0c-bfa4-4103-bde6-9774eae4bd9e',\n",
       " '98aed0e1-20dd-4488-a32c-6e9eca59a3e3',\n",
       " '66e3d1f6-b1c3-4860-b00f-094ebe1a0d55',\n",
       " 'c6277e86-8658-4b58-9f1a-a2718f7461c0',\n",
       " '81cf58e8-243c-4632-baf4-5baaf67e7266',\n",
       " '00c69163-a61b-4895-87ed-deacdd1cab76',\n",
       " '62cbac59-0aa9-4177-afa3-c73e7e0e676a',\n",
       " '84a6cc6a-e558-48ef-849d-7c24b465d3a9',\n",
       " '48771a64-7488-4cc6-8c7d-67f5b7cdadd9',\n",
       " '024e3a1d-012a-44ab-a36d-da8b4d600d02',\n",
       " '1eb14a1f-e1cf-44b1-a533-803991b5fff2',\n",
       " 'af88c45d-af30-4461-9f4d-555fe0db9917',\n",
       " 'd54109d4-1e74-4576-ac1a-705ce258d099',\n",
       " '283a1b08-6ac5-4689-8400-82cf1810562e',\n",
       " 'e755482d-9353-4c71-a9e7-a12bb28a2f2c',\n",
       " '9709f523-8230-40d1-966d-4a994ad37656',\n",
       " 'ef93b9cc-182c-47cb-a828-c7cae9adf08f',\n",
       " 'd9e95253-9779-4738-9073-93522bf61d0c',\n",
       " '79ea7574-a39c-4344-b2ad-8cd151a9e52e',\n",
       " '9fd6d56f-e372-485b-98ae-9c72f349c957',\n",
       " 'eadd204c-19ff-438f-a9f9-195e04c8d071',\n",
       " '57bf40d0-e82d-4e3e-a3a5-7b7f09ad9bd0',\n",
       " '5c3cf075-dbdf-40df-91d6-b9d83aa8c1a2',\n",
       " '70e15d31-53a1-4a71-b74e-696c42002dd8',\n",
       " '04a5399a-5454-405e-9072-5efc40028a77',\n",
       " '143e1594-a224-4112-a322-0e80cbeec786',\n",
       " '23089a3d-460f-4111-9933-ea5e8bb6bf6b',\n",
       " '7d5b1c71-bc8a-4685-8502-2eece5cc5d57',\n",
       " '84c50958-86dc-4bd3-97e9-f224aeb460e5',\n",
       " 'fc916724-9f01-4302-b9a0-0e8f036697db',\n",
       " '396c5899-cbef-4d48-978b-da8e29243cb2',\n",
       " '3f0690b8-655b-4733-90a0-1f21a1737a0a',\n",
       " '88ea812a-1711-4962-962f-5d8dd013d544',\n",
       " '72977d54-ccb6-4485-b535-dd4c5cfcf791',\n",
       " '7b2408dc-1e14-440b-8372-cf6cd747126b',\n",
       " '653cff81-bbbe-40e0-8718-41521991c258',\n",
       " '08536aa6-1cdf-417f-b7d0-47dfe1833bbe',\n",
       " 'e009f2e4-0900-4197-9c16-b088cf44dfa3',\n",
       " 'ec0ef7b5-6fb6-438d-9823-aed228a4d57c',\n",
       " 'b6fc7ebf-eaac-4bcb-a737-93d2a7320e83',\n",
       " 'ca463e3a-f84d-4702-a421-28c63a6c3879',\n",
       " '4b60bb30-5b72-4373-9ae2-f395b63e131a',\n",
       " 'bfe037a5-145d-4282-b087-4e7cca172558',\n",
       " 'dc1d1413-c369-45f9-bbb6-6a4ec565e1bb',\n",
       " 'd43af2b1-b1fc-4cab-949d-fdd7e9f87d0c',\n",
       " 'c5168f78-6e94-4754-a4b9-6355f2ba01bf',\n",
       " 'd9c57b9f-2116-4555-8df4-b8de3d69371a',\n",
       " '92d88cbd-e680-44a4-992b-a941a8b2fdd3',\n",
       " 'cd09f302-7041-426f-9fbb-b271bbe17ea1',\n",
       " 'f7ac4e99-ea95-4af8-b610-75b512df5b9c',\n",
       " 'de925c36-068f-4a57-90c7-2427519d704c',\n",
       " '5eaf8a73-480a-4c38-a65f-a83ffdbfe145',\n",
       " '460b37a8-9050-498b-9a79-9f6e9267eb7e',\n",
       " '254878f8-650f-4e4c-8f33-a216e8c14c1c',\n",
       " '232f062d-33ac-47ea-a359-f59db9620872',\n",
       " '7c13844c-dd3d-43d6-bad4-67b01265a732',\n",
       " '5a41e2f1-b22d-4e91-930a-692697653e30',\n",
       " 'fd37ccd4-5340-4e8a-be9a-5274ef1a2297',\n",
       " '95651683-6fe9-42cf-915f-c074ece3198c',\n",
       " 'f1e2aad9-946c-43f2-9d15-3e5685b99246',\n",
       " '728a5b6a-d54c-4610-8da5-5d968ce28dbd',\n",
       " '4e15f3f2-07ac-40de-9f03-2f4679dc7267',\n",
       " '13ec7bf1-10cc-41fa-a0bd-9e41973c5660',\n",
       " '4069f48c-aec7-45ec-a904-479a9ea46230',\n",
       " 'd2784532-95c7-4ac9-9c29-dd2d3e10499b',\n",
       " '0528fcc0-8a56-472f-9662-428b384a8bad']"
      ]
     },
     "execution_count": 20,
     "metadata": {},
     "output_type": "execute_result"
    }
   ],
   "source": [
    "import faiss\n",
    "from langchain_community.docstore.in_memory import InMemoryDocstore\n",
    "from langchain_community.vectorstores import FAISS\n",
    "\n",
    "storage_file_path=\"./Memory\"\n",
    "storage_index_name=\"PDF_index\"\n",
    "\n",
    "index = faiss.IndexFlatIP(len(pdf_doc_embeddings[0]))\n",
    "\n",
    "vector_store = FAISS(\n",
    "    embedding_function=embeddings,\n",
    "    index=index,\n",
    "    docstore=InMemoryDocstore(),\n",
    "    index_to_docstore_id={},\n",
    ")\n",
    "\n",
    "vector_store.add_documents(documents=pdf_doc_chunks)"
   ]
  },
  {
   "cell_type": "markdown",
   "id": "690cebba",
   "metadata": {},
   "source": [
    "We can also save the vector store in persistent memory!"
   ]
  },
  {
   "cell_type": "code",
   "execution_count": 21,
   "id": "1fd5cc12",
   "metadata": {},
   "outputs": [],
   "source": [
    "vector_store.save_local(folder_path=storage_file_path,index_name=storage_index_name)"
   ]
  },
  {
   "cell_type": "markdown",
   "id": "359639ca",
   "metadata": {},
   "source": [
    "## <span style=\"color:#ff8000\">Generation Pipeline</span>"
   ]
  },
  {
   "cell_type": "markdown",
   "id": "e3f43f95",
   "metadata": {},
   "source": [
    "## <span style=\"color:#ff8000\">1. Retrieval</span>"
   ]
  },
  {
   "cell_type": "code",
   "execution_count": 22,
   "id": "49c34744",
   "metadata": {},
   "outputs": [
    {
     "name": "stdout",
     "output_type": "stream",
     "text": [
      " Retrieved Chunk 1: a. Penyaluran Beasiswa dan/atau Bantuan Biaya Pendidikan;  b. Asrarna Mahasiswa;\n",
      "c. Program Layanan Kesehatan Mahaslswa;  d. Bimbingan clan Konseling;  e. Pelatihan dan Pengembangan\n",
      "Karakter;  f. Pengembangan Keprofesian dan Kewirausahaan Mahaslswa;  g. Layanan Kegiatan\n",
      "Kemahasiswaan;  h. Layanan bagi mahasiswa penyanclang disabilitas.  (4) Layanan Kemahasiswaan\n",
      "sebagairnana dirnaksud pacla ayat (3) clapat  diberikan kepada individu mahasiswa, kelompok\n",
      "mahasiswa clan/atau  organisasi mahasiswa yang terdaftar atau diakui secara sah oleh ITB.  (5)\n",
      "Dikecualikan dari ketentuan sebagaimana dimaksud pada ayat (4), bagi  mahasiswa yang sedang\n",
      "menjalani sanksi atas pelanggaran akademik dari  kemahasiswaan yang ditetapkan oleh 1TB, ticlak\n",
      "menclapatkan Layanan  Kemahasiswaan sebagaimana dimaksud pada ayat (3).\n",
      "\n",
      "\n",
      "\n",
      " Retrieved Chunk 2: 9. Layanan Kesehatan Mahasiswa adalah program bantuan bagi mahasiswa  berupa\n",
      "pemberian subsidi rawat jalan dan/atau santunan kesehatan.  10. Keglatan Kemahasiswaan adalah wahana\n",
      "pembelajaran, pembentukan  karakter, kreativitas, inovasi, latihan kepemimpinan, manajerial, serta\n",
      "kerja  sama sebagai upaya membangun kepribadian yang bennartabat  BAB II  LAYANAN KEMAHASISWAAN\n",
      "Bagian Kesatu  Layanan Kemahasiswaan  Pasal2  ( 1) 1TB mengusahakan Layanan Kemahasiswaan dengan\n",
      "tujuan untuk  mendukung proses pendidikan menuju terwujudnya visi dan misi pendidikan  di ITB.  (2)\n",
      "Layanan Kemahasiswaan dapat diberikan kepacla perorangan, kelompok  dan/atau organisasi\n",
      "kemahasiswaan, untuk mendukung pengembangan  karakter, kecintaan pada bangsa dan negara, bakat,\n",
      "minat, keprofesian, clan  pengembangan kesejahteraan rnahasiswa.  (3) Jenis Layanan Kemahasiswaan\n",
      "yang diusahakan oleh ITB berupa:  a. Penyaluran Beasiswa dan/atau Bantuan Biaya Pendidikan;  b.\n",
      "Asrarna Mahasiswa;\n",
      "\n",
      "\n",
      "\n"
     ]
    }
   ],
   "source": [
    "# Load the FAISS vector store with safe deserialization\n",
    "vector_store = FAISS.load_local(folder_path=\"./Memory\", index_name=\"PDF_index\", embeddings=embeddings, allow_dangerous_deserialization=True)\n",
    "\n",
    "# Define a query\n",
    "query = \"Apa saja jenis Layanan Kemahasiswaan yang disediakan ITB?\"\n",
    "\n",
    "# Perform similarity search\n",
    "retrieved_docs = vector_store.similarity_search(query, k=2)  # Get top 2 relevant chunks\n",
    "\n",
    "# Display results\n",
    "for i, doc in enumerate(retrieved_docs):\n",
    "    print(textwrap.fill(f\"\\nRetrieved Chunk {i+1}:\\n{doc.page_content}\",width=100))\n",
    "    print(\"\\n\\n\")"
   ]
  },
  {
   "cell_type": "markdown",
   "id": "fa5a4144",
   "metadata": {},
   "source": [
    "This is the most basic implementation of a retriever in the generation pipeline of a RAG-enabled system. This method of retrieval is enabled by embeddings. We used the text-embedding-3-small from OpenAI. FAISS calculated the similarity score based on these embeddings.\n",
    "\n",
    "---"
   ]
  },
  {
   "cell_type": "markdown",
   "id": "029fd599",
   "metadata": {},
   "source": [
    "## <span style=\"color:#ff8000\">2. Augmentation</span>\n",
    "\n",
    "The information fetched by the retriever should also be sent to the LLM in form of a natural language prompt. This process of combining the user query and the retrieved information is called augmentation.\n"
   ]
  },
  {
   "cell_type": "code",
   "execution_count": 23,
   "id": "80d27eaa",
   "metadata": {},
   "outputs": [
    {
     "name": "stdout",
     "output_type": "stream",
     "text": [
      "  Given the context below answer the question.  Question: Apa saja jenis Layanan Kemahasiswaan yang disediakan ITB?   Context : a. Penyaluran Beasiswa\n",
      "dan/atau Bantuan Biaya Pendidikan;  b. Asrarna Mahasiswa;  c. Program Layanan Kesehatan Mahaslswa;  d. Bimbingan clan Konseling;  e. Pelatihan dan\n",
      "Pengembangan Karakter;  f. Pengembangan Keprofesian dan Kewirausahaan Mahaslswa;  g. Layanan Kegiatan Kemahasiswaan;  h. Layanan bagi mahasiswa\n",
      "penyanclang disabilitas.  (4) Layanan Kemahasiswaan sebagairnana dirnaksud pacla ayat (3) clapat  diberikan kepada individu mahasiswa, kelompok\n",
      "mahasiswa clan/atau  organisasi mahasiswa yang terdaftar atau diakui secara sah oleh ITB.  (5) Dikecualikan dari ketentuan sebagaimana dimaksud pada\n",
      "ayat (4), bagi  mahasiswa yang sedang menjalani sanksi atas pelanggaran akademik dari  kemahasiswaan yang ditetapkan oleh 1TB, ticlak menclapatkan\n",
      "Layanan  Kemahasiswaan sebagaimana dimaksud pada ayat (3).9. Layanan Kesehatan Mahasiswa adalah program bantuan bagi mahasiswa  berupa pemberian\n",
      "subsidi rawat jalan dan/atau santunan kesehatan.  10. Keglatan Kemahasiswaan adalah wahana pembelajaran, pembentukan  karakter, kreativitas, inovasi,\n",
      "latihan kepemimpinan, manajerial, serta kerja  sama sebagai upaya membangun kepribadian yang bennartabat  BAB II  LAYANAN KEMAHASISWAAN  Bagian Kesatu\n",
      "Layanan Kemahasiswaan  Pasal2  ( 1) 1TB mengusahakan Layanan Kemahasiswaan dengan tujuan untuk  mendukung proses pendidikan menuju terwujudnya visi\n",
      "dan misi pendidikan  di ITB.  (2) Layanan Kemahasiswaan dapat diberikan kepacla perorangan, kelompok  dan/atau organisasi kemahasiswaan, untuk\n",
      "mendukung pengembangan  karakter, kecintaan pada bangsa dan negara, bakat, minat, keprofesian, clan  pengembangan kesejahteraan rnahasiswa.  (3) Jenis\n",
      "Layanan Kemahasiswaan yang diusahakan oleh ITB berupa:  a. Penyaluran Beasiswa dan/atau Bantuan Biaya Pendidikan;  b. Asrarna Mahasiswa;  Remember to\n",
      "answer only based on the context provided and not from any other source.   If the question cannot be answered based on the provided context, say I\n",
      "don’t know.\n"
     ]
    }
   ],
   "source": [
    "retrieved_context=retrieved_docs[0].page_content + retrieved_docs[1].page_content\n",
    "\n",
    "# Creating the prompt\n",
    "augmented_prompt=f\"\"\"\n",
    "\n",
    "Given the context below answer the question.\n",
    "\n",
    "Question: {query} \n",
    "\n",
    "Context : {retrieved_context}\n",
    "\n",
    "Remember to answer only based on the context provided and not from any other source. \n",
    "\n",
    "If the question cannot be answered based on the provided context, say I don’t know.\n",
    "\n",
    "\"\"\"\n",
    "\n",
    "print(textwrap.fill(augmented_prompt,width=150))"
   ]
  },
  {
   "cell_type": "markdown",
   "id": "35515d46",
   "metadata": {},
   "source": [
    "---"
   ]
  },
  {
   "cell_type": "markdown",
   "id": "41e7237a",
   "metadata": {},
   "source": [
    "## <span style=\"color:#ff8000\">3. Generation</span>\n",
    "\n",
    "Generation is the final step of this pipeline. While LLMs may be used in any of the previous steps in the pipeline, the generation step is completely reliant on the LLM. The most popular LLMs are the ones being developed by OpenAI, Anthropic, Meta, Google, Microsoft and Mistral amongst other developers. \n",
    "\n",
    "We have built a simple retriever using FAISS and OpenAI embeddings and, we created a simple augmented prompt. Now we will use OpenAI’s model, GPT-4.1-mini, to generate the response."
   ]
  },
  {
   "cell_type": "code",
   "execution_count": 24,
   "id": "cd82c26d",
   "metadata": {},
   "outputs": [
    {
     "data": {
      "text/plain": [
       "'Jenis Layanan Kemahasiswaan yang disediakan ITB adalah:  \\na. Penyaluran Beasiswa dan/atau Bantuan Biaya Pendidikan;  \\nb. Asrama Mahasiswa;  \\nc. Program Layanan Kesehatan Mahasiswa;  \\nd. Bimbingan dan Konseling;  \\ne. Pelatihan dan Pengembangan Karakter;  \\nf. Pengembangan Keprofesian dan Kewirausahaan Mahasiswa;  \\ng. Layanan Kegiatan Kemahasiswaan;  \\nh. Layanan bagi mahasiswa penyandang disabilitas.'"
      ]
     },
     "execution_count": 24,
     "metadata": {},
     "output_type": "execute_result"
    }
   ],
   "source": [
    "from langchain_openai import ChatOpenAI\n",
    "\n",
    "\n",
    "# Set up LLM and embeddings\n",
    "llm = ChatOpenAI(\n",
    "    model=\"gpt-4.1-mini\",\n",
    "    temperature=0,\n",
    "    max_tokens=None,\n",
    "    timeout=None,\n",
    "    max_retries=2\n",
    ")\n",
    "\n",
    "messages=[(\"human\",augmented_prompt)]\n",
    "\n",
    "ai_msg = llm.invoke(messages)\n",
    "ai_msg.content"
   ]
  },
  {
   "cell_type": "markdown",
   "id": "496d9163",
   "metadata": {},
   "source": [
    "## <span style=\"color:#ff8000\">Congratulations!</span>\n",
    "For completing this introduction to RAG. I hope you had fun. For any queries, please get in touch!"
   ]
  },
  {
   "cell_type": "markdown",
   "id": "jowey5hvpv",
   "metadata": {},
   "source": [
    "## <span style=\"color:#ff8000\">Testing the Complete RAG Pipeline</span>\n",
    "\n",
    "Let's test the complete pipeline from indexing to generation with a comprehensive example."
   ]
  },
  {
   "cell_type": "code",
   "execution_count": 27,
   "id": "tbyje1t0wms",
   "metadata": {},
   "outputs": [
    {
     "name": "stdout",
     "output_type": "stream",
     "text": [
      "🔄 Testing Complete RAG Pipeline...\n",
      "==================================================\n",
      "1. Loading PDFs from Assets/Data...\n",
      "✅ Loaded 30 pages from PDF files\n",
      "\n",
      "2. Chunking documents...\n",
      "✅ Created 87 chunks\n",
      "\n",
      "3. Creating embeddings...\n",
      "✅ Embeddings model initialized\n",
      "\n",
      "4. Creating vector store...\n",
      "✅ Vector store created and populated\n",
      "\n",
      "5. Saving vector store...\n",
      "✅ Vector store saved to ./Memory/PDF_index\n",
      "\n",
      "6. Testing retrieval...\n",
      "✅ Retrieved 3 relevant documents\n",
      "\n",
      "7. Testing generation...\n",
      "✅ Generated response from LLM\n",
      "\n",
      "==================================================\n",
      "🎉 RAG Pipeline Test Complete!\n",
      "==================================================\n",
      "\n",
      "📊 Pipeline Statistics:\n",
      "• Total pages loaded: 30\n",
      "• Total chunks created: 87\n",
      "• Vector store dimension: 1536\n",
      "• Test query: 'Apa saja jenis Layanan Kemahasiswaan yang disediakan ITB?'\n",
      "• Documents retrieved: 3\n",
      "\n",
      "💬 Sample Response:\n",
      "------------------------------\n",
      "Jenis Layanan Kemahasiswaan yang disediakan ITB adalah:  \n",
      "a. Penyaluran Beasiswa dan/atau Bantuan Biaya Pendidikan;  \n",
      "b. Asrama Mahasiswa;  \n",
      "c. Program Layanan Kesehatan Mahasiswa;  \n",
      "d. Bimbingan dan Konseling;  \n",
      "e. Pelatihan dan Pengembangan Karakter;  \n",
      "f. Pengembangan Keprofesian dan Kewirausahaan Mahasiswa;  \n",
      "g. Layanan Kegiatan Kemahasiswaan;  \n",
      "h. Layanan bagi mahasiswa penyandang disabilitas.\n"
     ]
    }
   ],
   "source": [
    "# Complete RAG Pipeline Test\n",
    "def test_rag_pipeline():\n",
    "    print(\"🔄 Testing Complete RAG Pipeline...\")\n",
    "    print(\"=\" * 50)\n",
    "    \n",
    "    # 1. Test data loading\n",
    "    print(\"1. Loading PDFs from Assets/Data...\")\n",
    "    pdf_loader = DirectoryLoader(\n",
    "        '../data', \n",
    "        glob=\"*.pdf\",\n",
    "        loader_cls=PyPDFLoader,\n",
    "        use_multithreading=True\n",
    "    )\n",
    "    pdf_data = pdf_loader.load()\n",
    "    print(f\"✅ Loaded {len(pdf_data)} pages from PDF files\")\n",
    "    \n",
    "    # 2. Test chunking\n",
    "    print(\"\\n2. Chunking documents...\")\n",
    "    text_splitter = RecursiveCharacterTextSplitter(\n",
    "        separators=[\"\\n\\n\",\"\\n\",\".\"],\n",
    "        chunk_size=1000,\n",
    "        chunk_overlap=100,\n",
    "    )\n",
    "    pdf_doc_chunks = text_splitter.split_documents(pdf_data)\n",
    "    print(f\"✅ Created {len(pdf_doc_chunks)} chunks\")\n",
    "    \n",
    "    # 3. Test embeddings\n",
    "    print(\"\\n3. Creating embeddings...\")\n",
    "    embeddings = OpenAIEmbeddings(model=\"text-embedding-3-small\")\n",
    "    print(\"✅ Embeddings model initialized\")\n",
    "    \n",
    "    # 4. Test vector store creation\n",
    "    print(\"\\n4. Creating vector store...\")\n",
    "    import faiss\n",
    "    from langchain_community.docstore.in_memory import InMemoryDocstore\n",
    "    from langchain_community.vectorstores import FAISS\n",
    "    \n",
    "    index = faiss.IndexFlatIP(1536)  # dimension for text-embedding-3-small\n",
    "    vector_store = FAISS(\n",
    "        embedding_function=embeddings,\n",
    "        index=index,\n",
    "        docstore=InMemoryDocstore(),\n",
    "        index_to_docstore_id={},\n",
    "    )\n",
    "    vector_store.add_documents(documents=pdf_doc_chunks)\n",
    "    print(\"✅ Vector store created and populated\")\n",
    "    \n",
    "    # 5. Save vector store\n",
    "    print(\"\\n5. Saving vector store...\")\n",
    "    vector_store.save_local(folder_path=\"./Memory\", index_name=\"PDF_index\")\n",
    "    print(\"✅ Vector store saved to ./Memory/PDF_index\")\n",
    "    \n",
    "    # 6. Test retrieval\n",
    "    print(\"\\n6. Testing retrieval...\")\n",
    "    test_query = \"Apa saja jenis Layanan Kemahasiswaan yang disediakan ITB?\"\n",
    "    retrieved_docs = vector_store.similarity_search(test_query, k=3)\n",
    "    print(f\"✅ Retrieved {len(retrieved_docs)} relevant documents\")\n",
    "    \n",
    "    # 7. Test generation\n",
    "    print(\"\\n7. Testing generation...\")\n",
    "    from langchain_openai import ChatOpenAI\n",
    "    \n",
    "    llm = ChatOpenAI(model=\"gpt-4.1-mini\", temperature=0)\n",
    "    \n",
    "    # Create augmented prompt\n",
    "    context = \"\\n\\n\".join([doc.page_content for doc in retrieved_docs])\n",
    "    augmented_prompt = f\"\"\"\n",
    "    Berdasarkan konteks berikut, jawab pertanyaan dengan bahasa Indonesia.\n",
    "    \n",
    "    Pertanyaan: {test_query}\n",
    "    \n",
    "    Konteks: {context}\n",
    "    \n",
    "    Jawab hanya berdasarkan konteks yang diberikan. Jika tidak bisa dijawab berdasarkan konteks, katakan \"Saya tidak tahu berdasarkan dokumen yang tersedia.\"\n",
    "    \"\"\"\n",
    "    \n",
    "    messages = [(\"human\", augmented_prompt)]\n",
    "    response = llm.invoke(messages)\n",
    "    print(\"✅ Generated response from LLM\")\n",
    "    \n",
    "    print(\"\\n\" + \"=\" * 50)\n",
    "    print(\"🎉 RAG Pipeline Test Complete!\")\n",
    "    print(\"=\" * 50)\n",
    "    \n",
    "    print(f\"\\n📊 Pipeline Statistics:\")\n",
    "    print(f\"• Total pages loaded: {len(pdf_data)}\")\n",
    "    print(f\"• Total chunks created: {len(pdf_doc_chunks)}\")\n",
    "    print(f\"• Vector store dimension: 1536\")\n",
    "    print(f\"• Test query: '{test_query}'\")\n",
    "    print(f\"• Documents retrieved: {len(retrieved_docs)}\")\n",
    "    \n",
    "    print(f\"\\n💬 Sample Response:\")\n",
    "    print(\"-\" * 30)\n",
    "    print(response.content[:500] + \"...\" if len(response.content) > 500 else response.content)\n",
    "    \n",
    "    return {\n",
    "        'pages_loaded': len(pdf_data),\n",
    "        'chunks_created': len(pdf_doc_chunks),\n",
    "        'documents_retrieved': len(retrieved_docs),\n",
    "        'response': response.content\n",
    "    }\n",
    "\n",
    "# Run the test\n",
    "test_results = test_rag_pipeline()"
   ]
  }
 ],
 "metadata": {
  "kernelspec": {
   "display_name": "Python 3",
   "language": "python",
   "name": "python3"
  },
  "language_info": {
   "codemirror_mode": {
    "name": "ipython",
    "version": 3
   },
   "file_extension": ".py",
   "mimetype": "text/x-python",
   "name": "python",
   "nbconvert_exporter": "python",
   "pygments_lexer": "ipython3",
   "version": "3.13.3"
  }
 },
 "nbformat": 4,
 "nbformat_minor": 5
}
