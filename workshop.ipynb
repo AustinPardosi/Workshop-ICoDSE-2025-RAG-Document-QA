{
 "cells": [
  {
   "cell_type": "markdown",
   "id": "afadfb2a",
   "metadata": {},
   "source": []
  },
  {
   "cell_type": "markdown",
   "id": "03e731bf",
   "metadata": {},
   "source": [
    "## <span style=\"color:#ff8000\">About this notebook</span>"
   ]
  },
  {
   "cell_type": "markdown",
   "id": "1a77080f",
   "metadata": {},
   "source": [
    "This is a supplementary notebook for the session AG __Studi Kasus: Document Q&A__  of the __ICoDSE 2025__."
   ]
  },
  {
   "cell_type": "markdown",
   "id": "43120e0f",
   "metadata": {},
   "source": [
    "### <span style=\"color:#47c7fc\">Contents</span>\n",
    "\n",
    "This notebook contains code in python and leverages the LangChain framework to build and evaluate the different components of a RAG pipeline. \n",
    "\n",
    "- Indexing Pipeline\n",
    "    -  Data Loading\n",
    "    - Chunking (or Data Splitting)\n",
    "    - Embeddings (or Data Transformation)\n",
    "    - Storage (Vector Databases)\n",
    "\n",
    "- Generation Pipeline\n",
    "    - Search & Retrieval\n",
    "    - Prompt Augmentation\n",
    "    - LLM Generation"
   ]
  },
  {
   "cell_type": "markdown",
   "id": "5c6eaaf1",
   "metadata": {},
   "source": [
    "## <span style=\"color:#ff8000\">Installing Dependencies</span>"
   ]
  },
  {
   "cell_type": "markdown",
   "id": "36a40a31",
   "metadata": {},
   "source": [
    "All the necessary libraries for running this notebook along with their versions can be found in __requirements.txt__ file in the root directory of this repository\n",
    "\n",
    "You should go to the root directory and run the following command to install the libraries\n",
    "\n",
    "```\n",
    "pip install -r requirements.txt\n",
    "```\n",
    "\n",
    "This is the recommended method of installing the dependencies\n",
    "\n",
    "\n",
    "_Alternatively, you can run the command from this notebook too. The relative path may vary so ensure that you are in the root directory of this repository_"
   ]
  },
  {
   "cell_type": "code",
   "execution_count": 1,
   "id": "7c024484",
   "metadata": {},
   "outputs": [
    {
     "name": "stdout",
     "output_type": "stream",
     "text": [
      "Note: you may need to restart the kernel to use updated packages.\n"
     ]
    },
    {
     "name": "stderr",
     "output_type": "stream",
     "text": [
      "\n",
      "[notice] A new release of pip is available: 25.1.1 -> 25.2\n",
      "[notice] To update, run: python.exe -m pip install --upgrade pip\n"
     ]
    }
   ],
   "source": [
    "%pip install -r ./requirements.txt --quiet"
   ]
  },
  {
   "cell_type": "markdown",
   "id": "65c3e0a1",
   "metadata": {},
   "source": [
    "---"
   ]
  },
  {
   "cell_type": "markdown",
   "id": "89d02eb4",
   "metadata": {},
   "source": [
    "## <span style=\"color:#ff8000\">Indexing Pipeline</span>\n"
   ]
  },
  {
   "cell_type": "markdown",
   "id": "b9041f80",
   "metadata": {},
   "source": [
    "### <span style=\"color:#47c7fc\">Data Loading</span>"
   ]
  },
  {
   "cell_type": "code",
   "execution_count": 2,
   "id": "95c5a2b5",
   "metadata": {},
   "outputs": [],
   "source": [
    "import textwrap\n",
    "import matplotlib.pyplot as plt\n",
    "import numpy as np\n",
    "import openai\n",
    "import os\n",
    "from glob import glob\n",
    "\n",
    "filepath='./Assets/Data'"
   ]
  },
  {
   "cell_type": "code",
   "execution_count": 3,
   "id": "c3c51c29",
   "metadata": {},
   "outputs": [
    {
     "name": "stdout",
     "output_type": "stream",
     "text": [
      "Loaded 30 pages from PDF files in ./Assets/Data\n",
      "First page preview:\n",
      "INSTITUT TEKNOLOGI BANDUNG   Jalan Tamansari No. 64 Bandung 40116, Telp/Fax: (022) 2508515  E-mail : sekre-wram@itb.ac.id      SURAT EDARAN  Nomor:\n",
      "184/IT1.B04/TU.09/2025    tentang  Penyesuaian Pelaksanaan Kegiatan Pembelajaran di Lingkungan ITB  pada Masa Libur Nasional dan Cuti Bersama Hari\n",
      "Suci Nyepi Tahun Baru Saka  1947 dan Hari Raya Idul Fitri 1446 H    Sejalan dengan Surat Edaran Wakil Rektor Bidang Sumber Daya (WRSD)\n",
      "No.568/IT1.B05/TU.09/2025  tentang Penyesuaian Pelaksanaan Tugas Pegawai di Lingkungan ITB  pada Masa Libur Nasional dan  Cuti Bersama Hari Suci Nyepi\n",
      "Tahun Baru Saka 1947 dan Hari Raya Idul Fitri 1446 H , dengan ini  disampaikan pemberitahuan tentang Penyesuaian Pelaksanaan Kegiatan Pembelajaran di\n",
      "Lingkungan  ITB pada periode 24-27 Maret 2025:  1. Pembelajaran ( perkuliahan dan pembimbingan) dilaksanakan secara daring dengan  mekanisme WFA (Work\n",
      "from Anywhere).     2. Pembelajaran secara daring dengan mekanisme WFA dilaksanakan tanpa mengurangi  capaian pembelaj\n"
     ]
    }
   ],
   "source": [
    "from langchain_community.document_loaders import PyPDFLoader, DirectoryLoader\n",
    "\n",
    "#START YOUR CODE HERE\n",
    "# Load all PDF files from the Assets/Data directory\n",
    "pdf_loader = DirectoryLoader(\n",
    "    filepath, \n",
    "    glob=\"*.pdf\",\n",
    "    loader_cls=PyPDFLoader,\n",
    "    use_multithreading=True\n",
    ")\n",
    "\n",
    "pdf_data = pdf_loader.load()  # Load all PDF files\n",
    "\n",
    "print(f\"Loaded {len(pdf_data)} pages from PDF files in {filepath}\")\n",
    "print(f\"First page preview:\")\n",
    "print(textwrap.fill(f\"{pdf_data[0].page_content[:1000]}\", width=150)) #print the first 1000 characters\n",
    "\n",
    "#END YOUR CODE HERE"
   ]
  },
  {
   "cell_type": "markdown",
   "id": "c543d276",
   "metadata": {},
   "source": [
    "### <span style=\"color:#47c7fc\">Data Splitting or Chunking</span>\n",
    "\n",
    "> Breaking down long pieces of text into manageable sizes is called Chunking"
   ]
  },
  {
   "cell_type": "markdown",
   "id": "82ab67df",
   "metadata": {},
   "source": [
    "### <span style=\"color:#47c7fc\">Fixed Size Chunking</span>\n",
    "\n",
    "A very common approach is to pre-determine the size of the chunk and the amount of overlap between the chunks. There are several chunking methods that follow a fixed size chunking approach.\n",
    "\n",
    "- Character-Based Chunking: Chunks are created based on a fixed number of characters\n",
    "\n",
    "- Token-Based Chunking: Chunks are created based on a fixed number of tokens.\n",
    "\n",
    "- Sentence-Based Chunking: Chunks are defined by a fixed number of sentences\n",
    "\n",
    "- Paragraph-Based Chunking: Chunks are created by dividing the text into a fixed number of paragraphs."
   ]
  },
  {
   "cell_type": "markdown",
   "id": "827dd29f",
   "metadata": {},
   "source": [
    "Let's try Character-Based Chunking. "
   ]
  },
  {
   "cell_type": "code",
   "execution_count": 4,
   "id": "3561ff2d",
   "metadata": {},
   "outputs": [
    {
     "name": "stdout",
     "output_type": "stream",
     "text": [
      "Total content length from all PDFs: 66789 characters\n",
      "Number of pages loaded: 30\n"
     ]
    }
   ],
   "source": [
    "# Load all PDF files from the directory\n",
    "pdf_loader = DirectoryLoader(\n",
    "    filepath, \n",
    "    glob=\"*.pdf\",\n",
    "    loader_cls=PyPDFLoader,\n",
    "    use_multithreading=True\n",
    ")\n",
    "\n",
    "pdf_data = pdf_loader.load()  # Load all PDF files\n",
    "\n",
    "total_content_length = sum(len(doc.page_content) for doc in pdf_data)\n",
    "print(f\"Total content length from all PDFs: {total_content_length} characters\")\n",
    "print(f\"Number of pages loaded: {len(pdf_data)}\")"
   ]
  },
  {
   "cell_type": "code",
   "execution_count": 5,
   "id": "7e5e0d64",
   "metadata": {},
   "outputs": [],
   "source": [
    "from langchain.text_splitter import RecursiveCharacterTextSplitter\n",
    "\n",
    "text_splitter = RecursiveCharacterTextSplitter(\n",
    "    separators=[\"\\n\\n\",\"\\n\",\".\"], #The character that should be used to split. More than one can be given to try recursively.\n",
    "    chunk_size=1000, #Number of characters in each chunk \n",
    "    chunk_overlap=100, #Number of overlapping characters between chunks\n",
    ")\n",
    "\n",
    "pdf_doc_chunks = text_splitter.split_documents(pdf_data)"
   ]
  },
  {
   "cell_type": "markdown",
   "id": "f76fb9e7",
   "metadata": {},
   "source": [
    "Let's check out the distribution of chunk sizes.\n",
    "\n",
    "Run the cell below.\n",
    "\n",
    "Remember the document object should be called ```pdf_doc_chunks```\n"
   ]
  },
  {
   "cell_type": "code",
   "execution_count": 6,
   "id": "c36390a8",
   "metadata": {},
   "outputs": [
    {
     "data": {
      "image/png": "[encoded data removed]",
      "text/plain": [
       "<Figure size 640x480 with 1 Axes>"
      ]
     },
     "metadata": {},
     "output_type": "display_data"
    },
    {
     "name": "stdout",
     "output_type": "stream",
     "text": [
      "The median chunk lenght is : 949.0\n",
      "The average chunk lenght is : 815.32\n",
      "The minimum chunk lenght is : 144\n",
      "The max chunk lenght is : 998\n",
      "The 75th percentile chunk length is : 973.0\n",
      "The 25th percentile chunk length is : 666.0\n"
     ]
    }
   ],
   "source": [
    "data = [len(doc.page_content) for doc in pdf_doc_chunks]\n",
    "\n",
    "plt.boxplot(data)  \n",
    "plt.title('Box Plot of chunk lengths')  # Title \n",
    "plt.xlabel('Chunk Lengths')  # Label for x-axis\n",
    "plt.ylabel('Values')  # Label for y-axis\n",
    "\n",
    "plt.show()\n",
    "\n",
    "print(f\"The median chunk lenght is : {round(np.median(data),2)}\")\n",
    "print(f\"The average chunk lenght is : {round(np.mean(data),2)}\")\n",
    "print(f\"The minimum chunk lenght is : {round(np.min(data),2)}\")\n",
    "print(f\"The max chunk lenght is : {round(np.max(data),2)}\")\n",
    "print(f\"The 75th percentile chunk length is : {round(np.percentile(data, 75),2)}\")\n",
    "print(f\"The 25th percentile chunk length is : {round(np.percentile(data, 25),2)}\")"
   ]
  },
  {
   "cell_type": "markdown",
   "id": "3ae1cb02",
   "metadata": {},
   "source": [
    "### <span style=\"color:#47c7fc\">Data Transformation or Embeddings</span>"
   ]
  },
  {
   "cell_type": "markdown",
   "id": "2c736c58",
   "metadata": {},
   "source": [
    "#### __OpenAI Embeddings__\n",
    "\n",
    "OpenAI, the company behind ChatGPT and GPT series of Large Language Models also provide three Embeddings Models. \n",
    "\n",
    "1.\ttext-embedding-ada-002 was released in December 2022. It has a dimension of 1536 meaning that it converts text into a vector of 1536 dimensions.\n",
    "2.\ttext-embedding-3-small is the latest small embedding model of 1536 dimensions released in January 2024. The flexibility it provides over ada-002 model is that users can adjust the size of the dimensions according to their needs.\n",
    "3.\ttext-embedding-3-large is a large embedding model of 3072 dimensions released together with the text-embedding-3-small model. It is the best performing model released by OpenAI yet.\n",
    "\n",
    "\n",
    "OpenAI models are proprietary and can be accessed using the OpenAI API and are priced based on the number of input tokens for which embeddings are desired. \n"
   ]
  },
  {
   "cell_type": "markdown",
   "id": "d4d6a735",
   "metadata": {},
   "source": [
    "Note: You will need an __OpenAI API Key__ which can be obtained from [OpenAI](https://platform.openai.com/api-keys)"
   ]
  },
  {
   "cell_type": "markdown",
   "id": "8fab2968",
   "metadata": {},
   "source": [
    "To initialize the __OpenAI client__, we need to pass the api key. There are many ways of doing it. \n",
    "\n",
    "__[Option 1] Creating a .env file for storing the API key and using it # Recommended__\n",
    "\n",
    "Install the __dotenv__ library\n",
    "\n",
    "_The dotenv library is a popular tool used in various programming languages, including Python and Node.js, to manage environment variables in development and deployment environments. It allows developers to load environment variables from a .env file into their application's environment._\n",
    "\n",
    "- Create a file named .env in the root directory of their project.\n",
    "- Inside the .env file, then define environment variables in the format VARIABLE_NAME=value. \n",
    "\n",
    "e.g.\n",
    "\n",
    "OPENAI_API_KEY=YOUR API KEY"
   ]
  },
  {
   "cell_type": "code",
   "execution_count": 7,
   "id": "5febefc8",
   "metadata": {},
   "outputs": [
    {
     "name": "stdout",
     "output_type": "stream",
     "text": [
      "Success: .env file found with some environment variables\n"
     ]
    }
   ],
   "source": [
    "from dotenv import load_dotenv\n",
    "import os\n",
    "\n",
    "if load_dotenv():\n",
    "    print(\"Success: .env file found with some environment variables\")\n",
    "else:\n",
    "    print(\"Caution: No environment variables found. Please create .env file in the root directory or add environment variables in the .env file\")"
   ]
  },
  {
   "cell_type": "markdown",
   "id": "deee68d6",
   "metadata": {},
   "source": [
    "We can also test if the key is valid or not"
   ]
  },
  {
   "cell_type": "code",
   "execution_count": 8,
   "id": "4947120d",
   "metadata": {},
   "outputs": [
    {
     "name": "stdout",
     "output_type": "stream",
     "text": [
      "OPENAI_API_KEY is set and is valid\n"
     ]
    }
   ],
   "source": [
    "api_key=os.environ[\"OPENAI_API_KEY\"]\n",
    "\n",
    "from openai import OpenAI\n",
    "\n",
    "client = OpenAI()\n",
    "\n",
    "\n",
    "if api_key:\n",
    "    try:\n",
    "        client.models.list()\n",
    "        print(\"OPENAI_API_KEY is set and is valid\")\n",
    "    except openai.APIError as e:\n",
    "        print(f\"OpenAI API returned an API Error: {e}\")\n",
    "        pass\n",
    "    except openai.APIConnectionError as e:\n",
    "        print(f\"Failed to connect to OpenAI API: {e}\")\n",
    "        pass\n",
    "    except openai.RateLimitError as e:\n",
    "        print(f\"OpenAI API request exceeded rate limit: {e}\")\n",
    "        pass\n",
    "\n",
    "else:\n",
    "    print(\"Please set you OpenAI API key as an environment variable OPENAI_API_KEY\")\n",
    "\n"
   ]
  },
  {
   "cell_type": "markdown",
   "id": "3e9f0119",
   "metadata": {},
   "source": [
    "Now we will use the __OpenAIEmbeddings__ library from langchain "
   ]
  },
  {
   "cell_type": "code",
   "execution_count": 9,
   "id": "f34cbb54",
   "metadata": {},
   "outputs": [
    {
     "name": "stdout",
     "output_type": "stream",
     "text": [
      "Generated embeddings for 87 chunks\n",
      "Each embedding has 1536 dimensions\n"
     ]
    }
   ],
   "source": [
    "# Import OpenAIEmbeddings from the library\n",
    "from langchain_openai import OpenAIEmbeddings\n",
    "\n",
    "os.environ[\"TOKENIZERS_PARALLELISM\"]=\"false\"\n",
    "\n",
    "# Initialize embeddings with consistent variable name\n",
    "embeddings = OpenAIEmbeddings(model=\"text-embedding-3-small\")\n",
    "\n",
    "# Generate embeddings for all document chunks\n",
    "pdf_doc_embeddings = embeddings.embed_documents([chunk.page_content for chunk in pdf_doc_chunks])\n",
    "\n",
    "print(f\"Generated embeddings for {len(pdf_doc_chunks)} chunks\")\n",
    "print(f\"Each embedding has {len(pdf_doc_embeddings[0])} dimensions\")"
   ]
  },
  {
   "cell_type": "code",
   "execution_count": 10,
   "id": "ebeabad7",
   "metadata": {},
   "outputs": [
    {
     "name": "stdout",
     "output_type": "stream",
     "text": [
      "The lenght of the embeddings vector is 1536\n",
      "The embeddings object is an array of 87 X 1536\n"
     ]
    }
   ],
   "source": [
    "print(f\"The lenght of the embeddings vector is {len(pdf_doc_embeddings[0])}\")\n",
    "print(f\"The embeddings object is an array of {len(pdf_doc_embeddings)} X {len(pdf_doc_embeddings[0])}\")"
   ]
  },
  {
   "cell_type": "markdown",
   "id": "e88d842f",
   "metadata": {},
   "source": [
    "### <span style=\"color:#47c7fc\">Vector Storage</span>"
   ]
  },
  {
   "cell_type": "code",
   "execution_count": 11,
   "id": "56e01887",
   "metadata": {},
   "outputs": [
    {
     "data": {
      "text/plain": [
       "['f6f474e7-7a1f-4388-afe8-05fd6ea66724',\n",
       " 'c7833f83-2cbe-4d7f-83ad-3b93882fda5b',\n",
       " '196eefd8-05d2-4e1f-854d-254077bd77a5',\n",
       " '9a0dacae-17e4-4f3b-bf43-9cd497c56cfb',\n",
       " 'd7e92c1b-7fdb-4b3b-a18c-915ff576df11',\n",
       " '2edf04f3-4c33-4f31-a13c-a93418a1228a',\n",
       " '783785b5-ebea-4246-997a-2f32c67fa8b1',\n",
       " 'e29b587e-570b-4987-8ac6-7a13203e3a45',\n",
       " '0196d366-ee33-474e-a9db-046edfaecb27',\n",
       " '875275e9-ad19-4957-9755-122158d3f82b',\n",
       " '92e8f623-8596-46c2-9106-ee79c51e7f38',\n",
       " '42538c06-df9c-409b-a692-09ef567055d0',\n",
       " '3e13544b-c26f-4364-a660-5568778caa43',\n",
       " 'cdd9ed9c-62dc-4893-b9e1-b1ad93665a29',\n",
       " '9ff83852-3dac-44b4-9fe4-170ab736917c',\n",
       " '8f583b07-5b96-4127-955b-834899cabd25',\n",
       " '2735a26c-2ce7-4524-b7aa-ed551221b9cc',\n",
       " 'ad73d654-7f02-49dc-98a5-7c1e14f34412',\n",
       " '4389c225-3d19-4cf9-be14-38ec37d52698',\n",
       " '203bf5c2-bb5a-49a1-8150-3871353e271b',\n",
       " 'a489a72b-2838-43a6-ab20-a7deedc485d0',\n",
       " 'd366721d-a728-4b96-ac29-268255fe38f5',\n",
       " '32cac8ab-37a1-4fed-93de-543938fd8159',\n",
       " 'b2bbdd40-40f0-4ab2-9725-a7b032b7ee38',\n",
       " '0580a38d-7b28-4d14-ac77-fb8603478c17',\n",
       " 'c97154cb-3f89-4cbc-80d1-a4e91827abc1',\n",
       " '956d6080-74b9-4d9a-99a3-d35181a80448',\n",
       " 'db729f05-9a8a-4e6b-9a2e-e07e27f0cfb7',\n",
       " '2437cbb5-c50d-4d41-9b89-8b6ae2176b24',\n",
       " '5221933f-a1b5-4f60-a713-76fd17fb8f6c',\n",
       " 'c5b0b97f-61b8-4eb2-906f-b9680a0ab11d',\n",
       " '5ac4b83f-0922-4966-b030-b243e8de10ea',\n",
       " 'c508f5bf-5a36-420d-b1d7-884c60b7641b',\n",
       " 'e9e882ff-e0c4-4ea6-ab99-ea22bfa8aca3',\n",
       " 'dce3c861-6302-4b16-a48c-98f77fa51ee7',\n",
       " '697d0ae8-1f87-4157-8dfa-f785ec9f461c',\n",
       " '4d95ebb2-230e-43b0-84a2-1017d0caa8b4',\n",
       " '29d2bfa7-cb4f-4d56-b506-c1444a4cef08',\n",
       " '25b24957-4f93-4ebd-8f66-eeb8e4b32c63',\n",
       " '5e8937fe-d16e-4364-85b3-5b4a053efddf',\n",
       " '13090f90-7435-44dd-9ed4-950db82f1a09',\n",
       " '4470b24c-8147-4abf-8c40-870b248662ee',\n",
       " 'acb7b5d8-9302-4692-ada5-bf4060c7a68a',\n",
       " '33eaba39-031c-4d6f-b010-cc2450151eac',\n",
       " '63426a8d-44fa-49f6-8e51-6dde0da7a1ac',\n",
       " '09a8dcd4-f6eb-44c8-92f3-7cc447792f98',\n",
       " '5a6be8fd-9207-49f3-b0e5-9f1e51ab4381',\n",
       " '917313f9-2c18-4abb-81e0-94a22c7af8c6',\n",
       " 'ac0ae44d-31f0-41a8-aa06-4a560aa9cd1d',\n",
       " '22895175-b260-407a-ab5f-a56697999c24',\n",
       " '3a17937d-d97d-427e-9249-588094724912',\n",
       " '50558d71-e1c4-417b-b3c5-487797a79e9e',\n",
       " '70eaae21-f00b-4c4a-95bf-c2f78b2bc446',\n",
       " 'd75c2429-58ee-4e84-930f-8f5ebc1630e0',\n",
       " '637aab00-d9b2-4d97-817c-b6ac0ddfaf46',\n",
       " '9d78696b-ba9e-4ec5-8fc7-6a53c6b5a3db',\n",
       " '11984b2b-5b4f-4875-b44b-9c8c02fac026',\n",
       " '61237887-4c93-46e6-b479-e02fc3d8deb0',\n",
       " '3dc3384d-e433-46c7-b29f-b0ede37d4d2d',\n",
       " '76af2e5b-47e9-44c9-893f-b02e69b39426',\n",
       " 'ebfb2aa8-80ca-44f9-9f1d-5ad250737254',\n",
       " 'e9cd5551-9d09-483d-b332-4cf20d0509c4',\n",
       " '15a79e18-c82f-415c-ac8d-78eaefe7b083',\n",
       " '5e23d901-8d86-4c1a-980b-44096e11ba04',\n",
       " '9dce1406-07bb-4bdd-a8a2-8428d494ab1e',\n",
       " 'c43c42e0-b84e-4140-9db3-ef0bc2560f60',\n",
       " '7df66a06-f253-40b7-b872-9064a6ee7970',\n",
       " '678ba51c-1e6d-413b-b6f7-136d9501b0b7',\n",
       " '650efffe-326c-4620-9683-b5e20e8a269b',\n",
       " '8c3a667e-596a-4e75-b01f-07cf3a908f67',\n",
       " '76ec0ece-31dc-4b00-8930-85ff97d7cf9c',\n",
       " '95d9d51a-24e1-43a2-9d31-b8c9fb691d47',\n",
       " 'cbdded6a-88dc-4ca5-a056-f996c6b5b1d6',\n",
       " '9a35a241-06bd-415e-8814-5beb0280e679',\n",
       " 'cf75296a-8a9a-4639-8589-9acfe1703ef8',\n",
       " '898688c7-b157-4360-9ea9-10f2f0e21e98',\n",
       " 'ec229895-16fd-4bdf-8fcd-c358b46dd68f',\n",
       " 'c45856d1-484a-4a43-81f5-4467631cb34e',\n",
       " '44bea7e8-0d80-41fd-9849-7172d38f2436',\n",
       " '12a721b2-d3f2-49e3-b666-3f06644d4326',\n",
       " '5d9acbd0-f3f2-4c26-913c-e15ba40ea1cf',\n",
       " '2efcf679-baa9-4f6a-95ef-d4e9c394f1ff',\n",
       " '7dbe03d4-8b9b-4360-ad87-c2528edc26f3',\n",
       " '95e3f2b7-1f0d-4a9d-84c8-e5733809f073',\n",
       " '1c8c0fae-56e9-48e6-96c1-f03e7c5d8677',\n",
       " '6790f299-4a6f-4b7f-8cdf-458e2e31946a',\n",
       " 'f57884f0-d9a7-42c7-b77c-0f8d6e21642f']"
      ]
     },
     "execution_count": 11,
     "metadata": {},
     "output_type": "execute_result"
    }
   ],
   "source": [
    "import faiss\n",
    "from langchain_community.docstore.in_memory import InMemoryDocstore\n",
    "from langchain_community.vectorstores import FAISS\n",
    "\n",
    "storage_file_path=\"./Memory\"\n",
    "storage_index_name=\"PDF_index\"\n",
    "\n",
    "index = faiss.IndexFlatIP(len(pdf_doc_embeddings[0]))\n",
    "\n",
    "vector_store = FAISS(\n",
    "    embedding_function=embeddings,\n",
    "    index=index,\n",
    "    docstore=InMemoryDocstore(),\n",
    "    index_to_docstore_id={},\n",
    ")\n",
    "\n",
    "vector_store.add_documents(documents=pdf_doc_chunks)"
   ]
  },
  {
   "cell_type": "markdown",
   "id": "690cebba",
   "metadata": {},
   "source": [
    "We can also save the vector store in persistent memory!"
   ]
  },
  {
   "cell_type": "code",
   "execution_count": 12,
   "id": "1fd5cc12",
   "metadata": {},
   "outputs": [],
   "source": [
    "vector_store.save_local(folder_path=storage_file_path,index_name=storage_index_name)"
   ]
  },
  {
   "cell_type": "markdown",
   "id": "359639ca",
   "metadata": {},
   "source": [
    "## <span style=\"color:#ff8000\">Generation Pipeline</span>"
   ]
  },
  {
   "cell_type": "markdown",
   "id": "e3f43f95",
   "metadata": {},
   "source": [
    "## <span style=\"color:#ff8000\">1. Retrieval</span>"
   ]
  },
  {
   "cell_type": "code",
   "execution_count": 21,
   "id": "49c34744",
   "metadata": {},
   "outputs": [
    {
     "name": "stdout",
     "output_type": "stream",
     "text": [
      " Retrieved Chunk 1: a. Penyaluran Beasiswa dan/atau Bantuan Biaya Pendidikan;  b. Asrarna Mahasiswa;\n",
      "c. Program Layanan Kesehatan Mahaslswa;  d. Bimbingan clan Konseling;  e. Pelatihan dan Pengembangan\n",
      "Karakter;  f. Pengembangan Keprofesian dan Kewirausahaan Mahaslswa;  g. Layanan Kegiatan\n",
      "Kemahasiswaan;  h. Layanan bagi mahasiswa penyanclang disabilitas.  (4) Layanan Kemahasiswaan\n",
      "sebagairnana dirnaksud pacla ayat (3) clapat  diberikan kepada individu mahasiswa, kelompok\n",
      "mahasiswa clan/atau  organisasi mahasiswa yang terdaftar atau diakui secara sah oleh ITB.  (5)\n",
      "Dikecualikan dari ketentuan sebagaimana dimaksud pada ayat (4), bagi  mahasiswa yang sedang\n",
      "menjalani sanksi atas pelanggaran akademik dari  kemahasiswaan yang ditetapkan oleh 1TB, ticlak\n",
      "menclapatkan Layanan  Kemahasiswaan sebagaimana dimaksud pada ayat (3).\n",
      "\n",
      "\n",
      "\n",
      " Retrieved Chunk 2: 9. Layanan Kesehatan Mahasiswa adalah program bantuan bagi mahasiswa  berupa\n",
      "pemberian subsidi rawat jalan dan/atau santunan kesehatan.  10. Keglatan Kemahasiswaan adalah wahana\n",
      "pembelajaran, pembentukan  karakter, kreativitas, inovasi, latihan kepemimpinan, manajerial, serta\n",
      "kerja  sama sebagai upaya membangun kepribadian yang bennartabat  BAB II  LAYANAN KEMAHASISWAAN\n",
      "Bagian Kesatu  Layanan Kemahasiswaan  Pasal2  ( 1) 1TB mengusahakan Layanan Kemahasiswaan dengan\n",
      "tujuan untuk  mendukung proses pendidikan menuju terwujudnya visi dan misi pendidikan  di ITB.  (2)\n",
      "Layanan Kemahasiswaan dapat diberikan kepacla perorangan, kelompok  dan/atau organisasi\n",
      "kemahasiswaan, untuk mendukung pengembangan  karakter, kecintaan pada bangsa dan negara, bakat,\n",
      "minat, keprofesian, clan  pengembangan kesejahteraan rnahasiswa.  (3) Jenis Layanan Kemahasiswaan\n",
      "yang diusahakan oleh ITB berupa:  a. Penyaluran Beasiswa dan/atau Bantuan Biaya Pendidikan;  b.\n",
      "Asrarna Mahasiswa;\n",
      "\n",
      "\n",
      "\n"
     ]
    }
   ],
   "source": [
    "# Load the FAISS vector store with safe deserialization\n",
    "vector_store = FAISS.load_local(folder_path=\"./Memory\", index_name=\"PDF_index\", embeddings=embeddings, allow_dangerous_deserialization=True)\n",
    "\n",
    "# Define a query\n",
    "query = \"Apa saja jenis Layanan Kemahasiswaan yang disediakan ITB?\"\n",
    "\n",
    "# Perform similarity search\n",
    "retrieved_docs = vector_store.similarity_search(query, k=2)  # Get top 2 relevant chunks\n",
    "\n",
    "# Display results\n",
    "for i, doc in enumerate(retrieved_docs):\n",
    "    print(textwrap.fill(f\"\\nRetrieved Chunk {i+1}:\\n{doc.page_content}\",width=100))\n",
    "    print(\"\\n\\n\")"
   ]
  },
  {
   "cell_type": "markdown",
   "id": "fa5a4144",
   "metadata": {},
   "source": [
    "This is the most basic implementation of a retriever in the generation pipeline of a RAG-enabled system. This method of retrieval is enabled by embeddings. We used the text-embedding-3-small from OpenAI. FAISS calculated the similarity score based on these embeddings.\n",
    "\n",
    "---"
   ]
  },
  {
   "cell_type": "markdown",
   "id": "029fd599",
   "metadata": {},
   "source": [
    "## <span style=\"color:#ff8000\">2. Augmentation</span>\n",
    "\n",
    "The information fetched by the retriever should also be sent to the LLM in form of a natural language prompt. This process of combining the user query and the retrieved information is called augmentation.\n"
   ]
  },
  {
   "cell_type": "code",
   "execution_count": 22,
   "id": "80d27eaa",
   "metadata": {},
   "outputs": [
    {
     "name": "stdout",
     "output_type": "stream",
     "text": [
      "  Given the context below answer the question.  Question: Apa saja jenis Layanan Kemahasiswaan yang disediakan ITB?   Context : a. Penyaluran Beasiswa\n",
      "dan/atau Bantuan Biaya Pendidikan;  b. Asrarna Mahasiswa;  c. Program Layanan Kesehatan Mahaslswa;  d. Bimbingan clan Konseling;  e. Pelatihan dan\n",
      "Pengembangan Karakter;  f. Pengembangan Keprofesian dan Kewirausahaan Mahaslswa;  g. Layanan Kegiatan Kemahasiswaan;  h. Layanan bagi mahasiswa\n",
      "penyanclang disabilitas.  (4) Layanan Kemahasiswaan sebagairnana dirnaksud pacla ayat (3) clapat  diberikan kepada individu mahasiswa, kelompok\n",
      "mahasiswa clan/atau  organisasi mahasiswa yang terdaftar atau diakui secara sah oleh ITB.  (5) Dikecualikan dari ketentuan sebagaimana dimaksud pada\n",
      "ayat (4), bagi  mahasiswa yang sedang menjalani sanksi atas pelanggaran akademik dari  kemahasiswaan yang ditetapkan oleh 1TB, ticlak menclapatkan\n",
      "Layanan  Kemahasiswaan sebagaimana dimaksud pada ayat (3).9. Layanan Kesehatan Mahasiswa adalah program bantuan bagi mahasiswa  berupa pemberian\n",
      "subsidi rawat jalan dan/atau santunan kesehatan.  10. Keglatan Kemahasiswaan adalah wahana pembelajaran, pembentukan  karakter, kreativitas, inovasi,\n",
      "latihan kepemimpinan, manajerial, serta kerja  sama sebagai upaya membangun kepribadian yang bennartabat  BAB II  LAYANAN KEMAHASISWAAN  Bagian Kesatu\n",
      "Layanan Kemahasiswaan  Pasal2  ( 1) 1TB mengusahakan Layanan Kemahasiswaan dengan tujuan untuk  mendukung proses pendidikan menuju terwujudnya visi\n",
      "dan misi pendidikan  di ITB.  (2) Layanan Kemahasiswaan dapat diberikan kepacla perorangan, kelompok  dan/atau organisasi kemahasiswaan, untuk\n",
      "mendukung pengembangan  karakter, kecintaan pada bangsa dan negara, bakat, minat, keprofesian, clan  pengembangan kesejahteraan rnahasiswa.  (3) Jenis\n",
      "Layanan Kemahasiswaan yang diusahakan oleh ITB berupa:  a. Penyaluran Beasiswa dan/atau Bantuan Biaya Pendidikan;  b. Asrarna Mahasiswa;  Remember to\n",
      "answer only based on the context provided and not from any other source.   If the question cannot be answered based on the provided context, say I\n",
      "don’t know.\n"
     ]
    }
   ],
   "source": [
    "retrieved_context=retrieved_docs[0].page_content + retrieved_docs[1].page_content\n",
    "\n",
    "# Creating the prompt\n",
    "augmented_prompt=f\"\"\"\n",
    "\n",
    "Given the context below answer the question.\n",
    "\n",
    "Question: {query} \n",
    "\n",
    "Context : {retrieved_context}\n",
    "\n",
    "Remember to answer only based on the context provided and not from any other source. \n",
    "\n",
    "If the question cannot be answered based on the provided context, say I don’t know.\n",
    "\n",
    "\"\"\"\n",
    "\n",
    "print(textwrap.fill(augmented_prompt,width=150))"
   ]
  },
  {
   "cell_type": "markdown",
   "id": "35515d46",
   "metadata": {},
   "source": [
    "---"
   ]
  },
  {
   "cell_type": "markdown",
   "id": "41e7237a",
   "metadata": {},
   "source": [
    "## <span style=\"color:#ff8000\">3. Generation</span>\n",
    "\n",
    "Generation is the final step of this pipeline. While LLMs may be used in any of the previous steps in the pipeline, the generation step is completely reliant on the LLM. The most popular LLMs are the ones being developed by OpenAI, Anthropic, Meta, Google, Microsoft and Mistral amongst other developers. \n",
    "\n",
    "We have built a simple retriever using FAISS and OpenAI embeddings and, we created a simple augmented prompt. Now we will use OpenAI’s model, GPT-4.1-mini, to generate the response."
   ]
  },
  {
   "cell_type": "code",
   "execution_count": 25,
   "id": "cd82c26d",
   "metadata": {},
   "outputs": [
    {
     "data": {
      "text/plain": [
       "'Jenis Layanan Kemahasiswaan yang disediakan ITB adalah:  \\na. Penyaluran Beasiswa dan/atau Bantuan Biaya Pendidikan;  \\nb. Asrama Mahasiswa;  \\nc. Program Layanan Kesehatan Mahasiswa;  \\nd. Bimbingan dan Konseling;  \\ne. Pelatihan dan Pengembangan Karakter;  \\nf. Pengembangan Keprofesian dan Kewirausahaan Mahasiswa;  \\ng. Layanan Kegiatan Kemahasiswaan;  \\nh. Layanan bagi mahasiswa penyandang disabilitas.'"
      ]
     },
     "execution_count": 25,
     "metadata": {},
     "output_type": "execute_result"
    }
   ],
   "source": [
    "from langchain_openai import ChatOpenAI\n",
    "\n",
    "\n",
    "# Set up LLM and embeddings\n",
    "llm = ChatOpenAI(\n",
    "    model=\"gpt-4.1-mini\",\n",
    "    temperature=0,\n",
    "    max_tokens=None,\n",
    "    timeout=None,\n",
    "    max_retries=2\n",
    ")\n",
    "\n",
    "messages=[(\"human\",augmented_prompt)]\n",
    "\n",
    "ai_msg = llm.invoke(messages)\n",
    "ai_msg.content"
   ]
  },
  {
   "cell_type": "markdown",
   "id": "496d9163",
   "metadata": {},
   "source": [
    "## <span style=\"color:#ff8000\">Congratulations!</span>\n",
    "For completing this introduction to RAG. I hope you had fun. For any queries, please get in touch!"
   ]
  },
  {
   "cell_type": "markdown",
   "id": "jowey5hvpv",
   "metadata": {},
   "source": [
    "## <span style=\"color:#ff8000\">Testing the Complete RAG Pipeline</span>\n",
    "\n",
    "Let's test the complete pipeline from indexing to generation with a comprehensive example."
   ]
  },
  {
   "cell_type": "code",
   "execution_count": null,
   "id": "tbyje1t0wms",
   "metadata": {},
   "outputs": [
    {
     "name": "stdout",
     "output_type": "stream",
     "text": [
      "🔄 Testing Complete RAG Pipeline...\n",
      "==================================================\n",
      "1. Loading PDFs from Assets/Data...\n",
      "✅ Loaded 30 pages from PDF files\n",
      "\n",
      "2. Chunking documents...\n",
      "✅ Created 87 chunks\n",
      "\n",
      "3. Creating embeddings...\n",
      "✅ Embeddings model initialized\n",
      "\n",
      "4. Creating vector store...\n",
      "✅ Vector store created and populated\n",
      "\n",
      "5. Saving vector store...\n",
      "✅ Vector store saved to ./Memory/PDF_index\n",
      "\n",
      "6. Testing retrieval...\n",
      "✅ Retrieved 3 relevant documents\n",
      "\n",
      "7. Testing generation...\n",
      "✅ Generated response from LLM\n",
      "\n",
      "==================================================\n",
      "🎉 RAG Pipeline Test Complete!\n",
      "==================================================\n",
      "\n",
      "📊 Pipeline Statistics:\n",
      "• Total pages loaded: 30\n",
      "• Total chunks created: 87\n",
      "• Vector store dimension: 1536\n",
      "• Test query: 'Apa saja peraturan tentang cuti mahasiswa?'\n",
      "• Documents retrieved: 3\n",
      "\n",
      "💬 Sample Response:\n",
      "------------------------------\n",
      "Saya tidak tahu berdasarkan dokumen yang tersedia.\n"
     ]
    }
   ],
   "source": [
    "# Complete RAG Pipeline Test\n",
    "def test_rag_pipeline():\n",
    "    print(\"🔄 Testing Complete RAG Pipeline...\")\n",
    "    print(\"=\" * 50)\n",
    "    \n",
    "    # 1. Test data loading\n",
    "    print(\"1. Loading PDFs from Assets/Data...\")\n",
    "    pdf_loader = DirectoryLoader(\n",
    "        './Assets/Data', \n",
    "        glob=\"*.pdf\",\n",
    "        loader_cls=PyPDFLoader,\n",
    "        use_multithreading=True\n",
    "    )\n",
    "    pdf_data = pdf_loader.load()\n",
    "    print(f\"✅ Loaded {len(pdf_data)} pages from PDF files\")\n",
    "    \n",
    "    # 2. Test chunking\n",
    "    print(\"\\n2. Chunking documents...\")\n",
    "    text_splitter = RecursiveCharacterTextSplitter(\n",
    "        separators=[\"\\n\\n\",\"\\n\",\".\"],\n",
    "        chunk_size=1000,\n",
    "        chunk_overlap=100,\n",
    "    )\n",
    "    pdf_doc_chunks = text_splitter.split_documents(pdf_data)\n",
    "    print(f\"✅ Created {len(pdf_doc_chunks)} chunks\")\n",
    "    \n",
    "    # 3. Test embeddings\n",
    "    print(\"\\n3. Creating embeddings...\")\n",
    "    embeddings = OpenAIEmbeddings(model=\"text-embedding-3-small\")\n",
    "    print(\"✅ Embeddings model initialized\")\n",
    "    \n",
    "    # 4. Test vector store creation\n",
    "    print(\"\\n4. Creating vector store...\")\n",
    "    import faiss\n",
    "    from langchain_community.docstore.in_memory import InMemoryDocstore\n",
    "    from langchain_community.vectorstores import FAISS\n",
    "    \n",
    "    index = faiss.IndexFlatIP(1536)  # dimension for text-embedding-3-small\n",
    "    vector_store = FAISS(\n",
    "        embedding_function=embeddings,\n",
    "        index=index,\n",
    "        docstore=InMemoryDocstore(),\n",
    "        index_to_docstore_id={},\n",
    "    )\n",
    "    vector_store.add_documents(documents=pdf_doc_chunks)\n",
    "    print(\"✅ Vector store created and populated\")\n",
    "    \n",
    "    # 5. Save vector store\n",
    "    print(\"\\n5. Saving vector store...\")\n",
    "    vector_store.save_local(folder_path=\"./Memory\", index_name=\"PDF_index\")\n",
    "    print(\"✅ Vector store saved to ./Memory/PDF_index\")\n",
    "    \n",
    "    # 6. Test retrieval\n",
    "    print(\"\\n6. Testing retrieval...\")\n",
    "    test_query = \"Apa saja peraturan tentang cuti mahasiswa?\"\n",
    "    retrieved_docs = vector_store.similarity_search(test_query, k=3)\n",
    "    print(f\"✅ Retrieved {len(retrieved_docs)} relevant documents\")\n",
    "    \n",
    "    # 7. Test generation\n",
    "    print(\"\\n7. Testing generation...\")\n",
    "    from langchain_openai import ChatOpenAI\n",
    "    \n",
    "    llm = ChatOpenAI(model=\"gpt-4.1-mini\", temperature=0)\n",
    "    \n",
    "    # Create augmented prompt\n",
    "    context = \"\\n\\n\".join([doc.page_content for doc in retrieved_docs])\n",
    "    augmented_prompt = f\"\"\"\n",
    "    Berdasarkan konteks berikut, jawab pertanyaan dengan bahasa Indonesia.\n",
    "    \n",
    "    Pertanyaan: {test_query}\n",
    "    \n",
    "    Konteks: {context}\n",
    "    \n",
    "    Jawab hanya berdasarkan konteks yang diberikan. Jika tidak bisa dijawab berdasarkan konteks, katakan \"Saya tidak tahu berdasarkan dokumen yang tersedia.\"\n",
    "    \"\"\"\n",
    "    \n",
    "    messages = [(\"human\", augmented_prompt)]\n",
    "    response = llm.invoke(messages)\n",
    "    print(\"✅ Generated response from LLM\")\n",
    "    \n",
    "    print(\"\\n\" + \"=\" * 50)\n",
    "    print(\"🎉 RAG Pipeline Test Complete!\")\n",
    "    print(\"=\" * 50)\n",
    "    \n",
    "    print(f\"\\n📊 Pipeline Statistics:\")\n",
    "    print(f\"• Total pages loaded: {len(pdf_data)}\")\n",
    "    print(f\"• Total chunks created: {len(pdf_doc_chunks)}\")\n",
    "    print(f\"• Vector store dimension: 1536\")\n",
    "    print(f\"• Test query: '{test_query}'\")\n",
    "    print(f\"• Documents retrieved: {len(retrieved_docs)}\")\n",
    "    \n",
    "    print(f\"\\n💬 Sample Response:\")\n",
    "    print(\"-\" * 30)\n",
    "    print(response.content[:500] + \"...\" if len(response.content) > 500 else response.content)\n",
    "    \n",
    "    return {\n",
    "        'pages_loaded': len(pdf_data),\n",
    "        'chunks_created': len(pdf_doc_chunks),\n",
    "        'documents_retrieved': len(retrieved_docs),\n",
    "        'response': response.content\n",
    "    }\n",
    "\n",
    "# Run the test\n",
    "test_results = test_rag_pipeline()"
   ]
  }
 ],
 "metadata": {
  "kernelspec": {
   "display_name": "Python 3",
   "language": "python",
   "name": "python3"
  },
  "language_info": {
   "codemirror_mode": {
    "name": "ipython",
    "version": 3
   },
   "file_extension": ".py",
   "mimetype": "text/x-python",
   "name": "python",
   "nbconvert_exporter": "python",
   "pygments_lexer": "ipython3",
   "version": "3.13.3"
  }
 },
 "nbformat": 4,
 "nbformat_minor": 5
}
